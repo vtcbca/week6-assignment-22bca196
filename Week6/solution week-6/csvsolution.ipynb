{
 "cells": [
  {
   "cell_type": "markdown",
   "id": "d4404f94-1d1a-49f5-8703-6473314fd0e4",
   "metadata": {},
   "source": [
    "### 1. Create a result table which contain student id, student name and 5 subject marks."
   ]
  },
  {
   "cell_type": "code",
   "execution_count": 4,
   "id": "a2bde55a-acdc-4451-ae73-b9c6bd6e1864",
   "metadata": {},
   "outputs": [],
   "source": [
    "import sqlite3 as sq\n",
    "con=sq.connect(\"RESULT.db\")\n",
    "cur=con.cursor()"
   ]
  },
  {
   "cell_type": "code",
   "execution_count": 5,
   "id": "4620933e-dbe5-49d2-ba68-d24958f459ea",
   "metadata": {},
   "outputs": [],
   "source": [
    "table='''Create table if not exists result\n",
    "        (\n",
    "        sid int primary key,\n",
    "        sname text NOT NULL,\n",
    "        m1 int,\n",
    "        m2 int,\n",
    "        m3 int,\n",
    "        m4 int,\n",
    "        m5 int\n",
    "        )'''"
   ]
  },
  {
   "cell_type": "code",
   "execution_count": 6,
   "id": "f70ca08b-71e1-42df-9302-d5cca811fd80",
   "metadata": {},
   "outputs": [
    {
     "data": {
      "text/plain": [
       "<sqlite3.Cursor at 0x2340484cc70>"
      ]
     },
     "execution_count": 6,
     "metadata": {},
     "output_type": "execute_result"
    }
   ],
   "source": [
    "cur.execute(table)"
   ]
  },
  {
   "cell_type": "markdown",
   "id": "6cf5e91f-5942-4805-8c74-3cfaabb5adc6",
   "metadata": {},
   "source": [
    "### 2. Enter 10 studnet details with its marks."
   ]
  },
  {
   "cell_type": "code",
   "execution_count": 7,
   "id": "da3e0875-7899-4ee6-8ea5-49c600e746ac",
   "metadata": {},
   "outputs": [],
   "source": [
    "insert2=\"insert into result values(?,?,?,?,?)\""
   ]
  },
  {
   "cell_type": "code",
   "execution_count": 8,
   "id": "5a1de575-a109-47da-8a7f-91b230220dd6",
   "metadata": {},
   "outputs": [],
   "source": [
    "l=[]"
   ]
  },
  {
   "cell_type": "code",
   "execution_count": 9,
   "id": "4fd5cf3d-1705-48b6-9a06-fd40f016dbee",
   "metadata": {},
   "outputs": [
    {
     "name": "stdin",
     "output_type": "stream",
     "text": [
      "Enter student id of student 1:  1\n",
      "Enter student Name of student 1 : om\n",
      "Enter marks of subject 1 of student 1 : 78\n",
      "Enter marks of subject  2 of student 1 : 90\n",
      "Enter marks of subject  3 of student 1 : 78\n",
      "Enter marks of subject 4 of student 1 : 56\n",
      "Enter marks of subject  5 of student 1 : 90\n",
      "Enter student id of student 2:  2\n",
      "Enter student Name of student 2 : sai\n",
      "Enter marks of subject 1 of student 2 : 90\n",
      "Enter marks of subject  2 of student 2 : 98\n",
      "Enter marks of subject  3 of student 2 : 87\n",
      "Enter marks of subject 4 of student 2 : 78\n",
      "Enter marks of subject  5 of student 2 : 67\n",
      "Enter student id of student 3:  3\n",
      "Enter student Name of student 3 : ram\n",
      "Enter marks of subject 1 of student 3 : 89\n",
      "Enter marks of subject  2 of student 3 : 67\n",
      "Enter marks of subject  3 of student 3 : 77\n",
      "Enter marks of subject 4 of student 3 : 90\n",
      "Enter marks of subject  5 of student 3 : 78\n",
      "Enter student id of student 4:  4\n",
      "Enter student Name of student 4 : gopal\n",
      "Enter marks of subject 1 of student 4 : 89\n",
      "Enter marks of subject  2 of student 4 : 87\n",
      "Enter marks of subject  3 of student 4 : 89\n",
      "Enter marks of subject 4 of student 4 : 80\n",
      "Enter marks of subject  5 of student 4 : 87\n",
      "Enter student id of student 5:  5\n",
      "Enter student Name of student 5 : radha\n",
      "Enter marks of subject 1 of student 5 : 89\n",
      "Enter marks of subject  2 of student 5 : 78\n",
      "Enter marks of subject  3 of student 5 : 67\n",
      "Enter marks of subject 4 of student 5 : 56\n",
      "Enter marks of subject  5 of student 5 : 90\n",
      "Enter student id of student 6:  6\n",
      "Enter student Name of student 6 : urvi\n",
      "Enter marks of subject 1 of student 6 : 90\n",
      "Enter marks of subject  2 of student 6 : 89\n",
      "Enter marks of subject  3 of student 6 : 67\n",
      "Enter marks of subject 4 of student 6 : 77\n",
      "Enter marks of subject  5 of student 6 : 55\n",
      "Enter student id of student 7:  7\n",
      "Enter student Name of student 7 : pretu\n",
      "Enter marks of subject 1 of student 7 : 89\n",
      "Enter marks of subject  2 of student 7 : 76\n",
      "Enter marks of subject  3 of student 7 : 75\n",
      "Enter marks of subject 4 of student 7 : 74\n",
      "Enter marks of subject  5 of student 7 : 89\n",
      "Enter student id of student 8:  8\n",
      "Enter student Name of student 8 : dhuli\n",
      "Enter marks of subject 1 of student 8 : 88\n",
      "Enter marks of subject  2 of student 8 : 77\n",
      "Enter marks of subject  3 of student 8 : 66\n",
      "Enter marks of subject 4 of student 8 : 99\n",
      "Enter marks of subject  5 of student 8 : 76\n",
      "Enter student id of student 9:  9\n",
      "Enter student Name of student 9 : khushi\n",
      "Enter marks of subject 1 of student 9 : 88\n",
      "Enter marks of subject  2 of student 9 : 99\n",
      "Enter marks of subject  3 of student 9 : 90\n",
      "Enter marks of subject 4 of student 9 : 98\n",
      "Enter marks of subject  5 of student 9 : 95\n",
      "Enter student id of student 10:  10\n",
      "Enter student Name of student 10 : hetal\n",
      "Enter marks of subject 1 of student 10 : 90\n",
      "Enter marks of subject  2 of student 10 : 87\n",
      "Enter marks of subject  3 of student 10 : 90\n",
      "Enter marks of subject 4 of student 10 : 98\n",
      "Enter marks of subject  5 of student 10 : 87\n"
     ]
    }
   ],
   "source": [
    "for i in range(10):\n",
    "    sid=int(input(f\"Enter student id of student {i+1}: \"))\n",
    "    sname=input(f\"Enter student Name of student {i+1} :\")\n",
    "    m1=int(input(f\"Enter marks of subject 1 of student {i+1} :\"))\n",
    "    m2=int(input(f\"Enter marks of subject  2 of student {i+1} :\"))\n",
    "    m3=int(input(f\"Enter marks of subject  3 of student {i+1} :\"))\n",
    "    m4=int(input(f\"Enter marks of subject 4 of student {i+1} :\"))\n",
    "    m5=int(input(f\"Enter marks of subject  5 of student {i+1} :\"))\n",
    "    t=(sid,sname,m1,m2,m3,m4,m5)\n",
    "    l.append(t) "
   ]
  },
  {
   "cell_type": "markdown",
   "id": "c058e95f-0886-4150-87e7-78702c93c0a4",
   "metadata": {},
   "source": [
    "### 3. Dump table into csv file \"result.csv\"."
   ]
  },
  {
   "cell_type": "code",
   "execution_count": 10,
   "id": "f9aec8d2-9bf0-409e-925e-5c07c0e5888c",
   "metadata": {},
   "outputs": [],
   "source": [
    "import csv"
   ]
  },
  {
   "cell_type": "code",
   "execution_count": 11,
   "id": "42e62b29-787b-4cf6-ae4d-f8220df4de23",
   "metadata": {},
   "outputs": [],
   "source": [
    "header=['STUDENT_ID','STUDENT_NAME','SUBJECT_1','SUBJECT_2','SUBJECT_3','SUBJECT_4','SUBJECT_5']"
   ]
  },
  {
   "cell_type": "code",
   "execution_count": 12,
   "id": "1ff1783e-857e-4158-a3bd-288a30d21823",
   "metadata": {},
   "outputs": [],
   "source": [
    "with open('reslult_tbl.csv','w',newline=\"\") as csvfile:\n",
    "    writer_obj=csv.writer(csvfile)\n",
    "    writer_obj.writerow(header)\n",
    "    writer_obj.writerows(l)"
   ]
  },
  {
   "cell_type": "markdown",
   "id": "a08fc755-29e3-4d85-9479-1ddf43109b8c",
   "metadata": {},
   "source": [
    "### 4. Read result.csv file and Print Total Marks and Grade of each student. Also Append Total Marks and Grade column into result.csv file."
   ]
  },
  {
   "cell_type": "code",
   "execution_count": 13,
   "id": "82b1bca8-a1b3-4445-bb90-67ac2bf05bf4",
   "metadata": {},
   "outputs": [
    {
     "name": "stdout",
     "output_type": "stream",
     "text": [
      "[{'STUDENT_ID': '1', 'STUDENT_NAME': 'om', 'SUBJECT_1': '78', 'SUBJECT_2': '90', 'SUBJECT_3': '78', 'SUBJECT_4': '56', 'SUBJECT_5': '90'}, {'STUDENT_ID': '2', 'STUDENT_NAME': 'sai', 'SUBJECT_1': '90', 'SUBJECT_2': '98', 'SUBJECT_3': '87', 'SUBJECT_4': '78', 'SUBJECT_5': '67'}, {'STUDENT_ID': '3', 'STUDENT_NAME': 'ram', 'SUBJECT_1': '89', 'SUBJECT_2': '67', 'SUBJECT_3': '77', 'SUBJECT_4': '90', 'SUBJECT_5': '78'}, {'STUDENT_ID': '4', 'STUDENT_NAME': 'gopal', 'SUBJECT_1': '89', 'SUBJECT_2': '87', 'SUBJECT_3': '89', 'SUBJECT_4': '80', 'SUBJECT_5': '87'}, {'STUDENT_ID': '5', 'STUDENT_NAME': 'radha', 'SUBJECT_1': '89', 'SUBJECT_2': '78', 'SUBJECT_3': '67', 'SUBJECT_4': '56', 'SUBJECT_5': '90'}, {'STUDENT_ID': '6', 'STUDENT_NAME': 'urvi', 'SUBJECT_1': '90', 'SUBJECT_2': '89', 'SUBJECT_3': '67', 'SUBJECT_4': '77', 'SUBJECT_5': '55'}, {'STUDENT_ID': '7', 'STUDENT_NAME': 'pretu', 'SUBJECT_1': '89', 'SUBJECT_2': '76', 'SUBJECT_3': '75', 'SUBJECT_4': '74', 'SUBJECT_5': '89'}, {'STUDENT_ID': '8', 'STUDENT_NAME': 'dhuli', 'SUBJECT_1': '88', 'SUBJECT_2': '77', 'SUBJECT_3': '66', 'SUBJECT_4': '99', 'SUBJECT_5': '76'}, {'STUDENT_ID': '9', 'STUDENT_NAME': 'khushi', 'SUBJECT_1': '88', 'SUBJECT_2': '99', 'SUBJECT_3': '90', 'SUBJECT_4': '98', 'SUBJECT_5': '95'}, {'STUDENT_ID': '10', 'STUDENT_NAME': 'hetal', 'SUBJECT_1': '90', 'SUBJECT_2': '87', 'SUBJECT_3': '90', 'SUBJECT_4': '98', 'SUBJECT_5': '87'}]\n",
      "\n",
      "\n"
     ]
    }
   ],
   "source": [
    "COLUMNS=[]\n",
    "with open('reslult_tbl.csv','r',newline=\"\") as read_csv:\n",
    "    read_obj=csv.DictReader(read_csv)\n",
    "    COLUMNS=list(read_obj)\n",
    "    print(COLUMNS)\n",
    "    print('\\n')"
   ]
  },
  {
   "cell_type": "code",
   "execution_count": 16,
   "id": "fccb2711-fec5-4414-80e5-d9ca9d15c3d1",
   "metadata": {},
   "outputs": [],
   "source": [
    "with open('reslult_tbl.csv','w',newline=\"\") as csvfile:\n",
    "    header=['STUDENT_ID','STUDENT_NAME','SUBJECT_1','SUBJECT_2','SUBJECT_3','SUBJECT_4',\n",
    "            'SUBJECT_5','total_marks','grade']\n",
    "    write_obj=csv.DictWriter(csvfile,fieldnames=header)\n",
    "    write_obj.writeheader()\n",
    "    write_obj.writerows(COLUMNS)\n",
    "    "
   ]
  },
  {
   "cell_type": "code",
   "execution_count": null,
   "id": "8e130b4c-7443-426a-9636-515bf2300194",
   "metadata": {},
   "outputs": [],
   "source": [
    "for row in COLUMNS:\n",
    "    total_marks=sum(int(row[f'SUBJECT_{i}'])\n",
    "for j in range(1,6))\n",
    "    percentage=total_marks/5\n",
    "    if percentage>=90:\n",
    "        grade='A'\n",
    "    elif percentage>=80 and percentage<=90:\n",
    "        grade='B'\n",
    "    elif percentage>=70 and percentage<=80:\n",
    "        grade='C'\n",
    "    elif percentage>=60 and percentage<=70:\n",
    "        grade='D'\n",
    "    elif percentage>=50 and percentage<=33:\n",
    "        grade='E'\n",
    "    else:\n",
    "        grade='F'\n",
    "row['total_marks']=total_marks\n",
    "row['grade']=grade"
   ]
  },
  {
   "cell_type": "markdown",
   "id": "f73cacdb-5809-4ec5-b3d1-c741839738cc",
   "metadata": {},
   "source": [
    "### 5. List out Top 3 Student id and name with its percentage.\n",
    " "
   ]
  },
  {
   "cell_type": "code",
   "execution_count": 17,
   "id": "d26a91e0-2466-4c1f-872e-b9b2f428e946",
   "metadata": {},
   "outputs": [
    {
     "name": "stdout",
     "output_type": "stream",
     "text": [
      " Student_ID      Student_Name       Percentage   \n",
      "-----------------------------------------------------\n",
      "     1                om                          \n",
      "     2               sai                          \n",
      "     3               ram                          \n"
     ]
    }
   ],
   "source": [
    "with open('reslult_tbl.csv', 'r', newline='') as file2:\n",
    "    head = next(file2)\n",
    "    header = \"{:^12} {:^20} {:^15}\\n-----------------------------------------------------\".format('Student_ID', 'Student_Name', 'Percentage')\n",
    "    print(header)\n",
    "    d = csv.reader(file2)\n",
    "    d = sorted(d, key=lambda stud: stud[8], reverse=True)\n",
    "    c=0\n",
    "    # Iterate through the sorted data and print each record\n",
    "    for i in d:\n",
    "        record_line = \"{:^12} {:^20} {:^15} \".format(i[0], i[1], i[8])\n",
    "        print(record_line)\n",
    "        c+=1\n",
    "        if c==3:\n",
    "            break\n",
    "        "
   ]
  },
  {
   "cell_type": "code",
   "execution_count": null,
   "id": "2540216e-8179-4fc6-ab1a-856f0d8c65aa",
   "metadata": {},
   "outputs": [],
   "source": []
  }
 ],
 "metadata": {
  "kernelspec": {
   "display_name": "Python 3 (ipykernel)",
   "language": "python",
   "name": "python3"
  },
  "language_info": {
   "codemirror_mode": {
    "name": "ipython",
    "version": 3
   },
   "file_extension": ".py",
   "mimetype": "text/x-python",
   "name": "python",
   "nbconvert_exporter": "python",
   "pygments_lexer": "ipython3",
   "version": "3.9.6"
  }
 },
 "nbformat": 4,
 "nbformat_minor": 5
}
